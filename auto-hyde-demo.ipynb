{
 "cells": [
  {
   "cell_type": "markdown",
   "id": "38bbbf5c",
   "metadata": {},
   "source": [
    "\n",
    "### Load Environment Variables"
   ]
  },
  {
   "cell_type": "code",
   "execution_count": 1,
   "id": "5e66bac8",
   "metadata": {},
   "outputs": [
    {
     "data": {
      "text/plain": [
       "True"
      ]
     },
     "execution_count": 1,
     "metadata": {},
     "output_type": "execute_result"
    }
   ],
   "source": [
    "from dotenv import load_dotenv\n",
    "load_dotenv()"
   ]
  },
  {
   "cell_type": "markdown",
   "id": "74e3d500",
   "metadata": {},
   "source": [
    "### Define LLM and Embeddings"
   ]
  },
  {
   "cell_type": "code",
   "execution_count": 2,
   "id": "c4e4b234",
   "metadata": {},
   "outputs": [],
   "source": [
    "from langchain_openai import OpenAIEmbeddings\n",
    "\n",
    "base_embeddings = OpenAIEmbeddings()\n",
    "\n",
    "from langchain_openai import ChatOpenAI\n",
    "\n",
    "llm = ChatOpenAI(model_name=\"gpt-4-1106-preview\", temperature=1)"
   ]
  },
  {
   "cell_type": "markdown",
   "id": "2dae0291",
   "metadata": {},
   "source": [
    "### Split Documents"
   ]
  },
  {
   "cell_type": "code",
   "execution_count": 3,
   "id": "2a5b9fc8",
   "metadata": {},
   "outputs": [],
   "source": [
    "from langchain_community.document_loaders import TextLoader\n",
    "\n",
    "loader = TextLoader(\"data/util.txt\")\n",
    "documents = loader.load()\n",
    "\n",
    "from langchain_text_splitters import CharacterTextSplitter\n",
    "\n",
    "text_splitter = CharacterTextSplitter(separator='.', chunk_size=1200, chunk_overlap=0)\n",
    "docs = text_splitter.split_documents(documents)"
   ]
  },
  {
   "cell_type": "markdown",
   "id": "72ae7d6f",
   "metadata": {},
   "source": [
    "### Define Chroma Vector DB"
   ]
  },
  {
   "cell_type": "code",
   "execution_count": 4,
   "id": "252e6567",
   "metadata": {},
   "outputs": [],
   "source": [
    "from langchain_community.vectorstores import Chroma\n",
    "\n",
    "db = Chroma.from_documents(docs, \n",
    "                           base_embeddings, \n",
    "                           collection_metadata={'hnsw:space': 'cosine'})"
   ]
  },
  {
   "cell_type": "markdown",
   "id": "fd5e1d11",
   "metadata": {},
   "source": [
    "### Instantiate *improved* HypotheticalDocumentEmbedder"
   ]
  },
  {
   "cell_type": "code",
   "execution_count": 5,
   "id": "4362fc88",
   "metadata": {},
   "outputs": [],
   "source": [
    "from src.auto_hyde import HypotheticalDocumentEmbedder\n",
    "\n",
    "hyde_embedder = HypotheticalDocumentEmbedder(\n",
    "    llm_chain=llm, base_embeddings=base_embeddings\n",
    ")"
   ]
  },
  {
   "cell_type": "markdown",
   "id": "3a77088d",
   "metadata": {},
   "source": [
    "### Define Custom HyDE params"
   ]
  },
  {
   "cell_type": "code",
   "execution_count": 6,
   "id": "675bd306",
   "metadata": {},
   "outputs": [],
   "source": [
    "hypo_params = {\n",
    "    'baseline_k': 20,\n",
    "    'exploration_multiplier': 5,\n",
    "    'verbose': True\n",
    "}"
   ]
  },
  {
   "cell_type": "markdown",
   "id": "0a536777",
   "metadata": {},
   "source": [
    "### Get Embedding"
   ]
  },
  {
   "cell_type": "code",
   "execution_count": 7,
   "id": "a2845558",
   "metadata": {
    "scrolled": false
   },
   "outputs": [
    {
     "name": "stdout",
     "output_type": "stream",
     "text": [
      "\n",
      ">>> Extracting Keywords from your Query...\n",
      ">>> ...Keywords Extracted: ['relationship', 'justice', 'happiness']\n",
      "\n",
      "\n",
      ">>> Performing Initial Retrieval of 100 documents...\n",
      "\n",
      "\n",
      ">>> Checking 80 Docs ranked after 20 for presence of keyword...\n",
      ">>> ...69 neglected Docs identified\n",
      "\n",
      "\n",
      ">>> Clustering neglected Docs...\n",
      ">>> ...6 Clusters identified\n",
      "\n",
      "\n",
      ">>> Generating Hypothetical Documents for each Doc Cluster...\n",
      "\n",
      "\n",
      "### Hypo Doc 1 ###\n",
      "In the quest to fathom the interrelation of justice and happiness, one might ponder their concurrence in the course of human affairs. Justice, as a societal construct, upholds a framework within which the individual and the collective aim to coexist harmoniously. Happiness, on the other hand, often springs from the well of contentment, shaped by the assurance of fairness and rectitude in one's surroundings. It follows, then, that a just society, by nurturing the equilibrium of rights and duties, creates fertile ground for happiness to flourish.\n",
      "\n",
      "  Justice, in its purest form, involves the administration of what is morally upright, with the dispensation of merit and retribution as its immediate concerns. Happiness, by contrast, may seem a subjective state, an inner joy often independent of external jurisprudence. However, the linkage between justice and happiness becomes apparent when one recognizes that the predictability and security fostered by justice contribute significantly to individual and collective well-being.\n",
      "\n",
      "  It is within this interplay that we find the marriage of justice and happiness. A society alive to the pulse of justice is inherently supportive of the conditions necessary for happiness. Conversely, widespread happiness is likely to reflect and reinforce the principles of justice, for contented individuals are less prone to commit injustices that disturb social harmony.\n",
      "\n",
      "  This is not to suggest that the relationship is one of perfect symmetry or that one invariably springs from the other. Cases abound where justice seems to exert a heavy hand while happiness eludes, or where happiness thrives in spite of apparent injustices. Yet, in the grand ledger of societal progress, the scales of justice and happiness, more often than not, balance themselves in concord, weaving together the fabric of a stable, prospering civilization.\n",
      "\n",
      "\n",
      "### Hypo Doc 2 ###\n",
      "It is a profound reflection that the pursuit of justice is intrinsically woven into the fabric of human happiness. For certainly, justice serves as a foundational pillar that elevates society to a level where happiness can flourish amongst the populous. What good, one must ponder, would be pleasures and comforts if they are perched upon an edifice of inequality and injustice? The mere accumulation of delights does not equate to a life well-lived unless it is undergirded by the fair and equitable treatment of all individuals. To attain true contentment, we must strive to create a society wherein the liberties and rights of each person are respected and upheld. It becomes apparent, therefore, that a just society is not an impediment to happiness but rather its most reliable guarantor. The relationship between justice and happiness is synergetic; as justice increases, so too does the potential for happiness. Just as a gardener tends to his plot, ensuring no weed chokes the budding plants, so must we cultivate justice to allow happiness to bloom. Yet, it is also essential that the seeker of happiness understands that it is not an ever-flowing fountain, but a well that must be both protected and renewed, for without justice, the waters of happiness can become muddied, embittering even the sweetest joys of human existence.\n",
      "\n",
      "\n",
      "### Hypo Doc 3 ###\n",
      "It stands to reason, upon scrutiny of the human condition, that justice and happiness intertwine in a complex dance of cause and consequence. As the fabric of society is woven from the threads of individual actions, the pursuit of justice becomes a collective endeavor to uphold a structure within which happiness may flourish. Justice, in its purest form, seeks to balance the scales, granting each soul its due share of rights and respect, effectively contributing to the general happiness. Conversely, happiness, when rooted in the fairness and equanimity that justice provides, transforms into a sustainable state, rather than transient pleasure subject to the caprices of fortune. It is therefore surmised that the relationship between justice and happiness is synergetic—each feeding into and fostering the other, to the benediction of both the individual and society at large.\n",
      "\n",
      "\n",
      "### Hypo Doc 4 ###\n",
      "In delving into the intricacies of justice and happiness, one traverses a path that intertwines the moral fabric of society with the subjective well-being of individuals. If we are to dissect the essence of justice, we establish that at its core, it dwells firmly in the realms of fairness, where equitable distributions and rectifications of wrongs set the standards for its existence. Conversely, happiness, a state often aspired to yet elusive in its nature, is a condition characterized by subjective contentment, peace, and joy.\n",
      "\n",
      "  One might argue that true happiness cannot be extricated from the experience of justice. For individual contentment is deeply permeated by the fairness of the conditions under which such happiness is pursued and obtained. When justice prevails, it facilitates an environment wherein each person can aspire to happiness without the impediment of inequity or oppression. Yet, a conundrum persists: can one experience happiness amid injustice, provided that the scales of inequity do not tip against oneself?\n",
      "\n",
      "  To probe further, consider that if one group's happiness stems from the subjugation of another, the ecosystem of justice is compromised, and thus, the overall societal happiness is diminished. Moreover, the idea that one can only attain happiness through the deserved reward of just acts generates a symbiotic relationship between the two concepts. When individuals and systems strive for fairness, they lay the groundwork for happiness that is untainted by the pangs of guilt or the unease of moral compromise.\n",
      "\n",
      "  In conclusion, the nexus between justice and happiness is profoundly intertwined. Justice tends to cultivate a soil from which the fruit of happiness can grow—not just for the individual, but for the collective ethos as well. The pursuit of one without heed for the other renders both concepts hollow. Therefore, the harmonization of justice and happiness is a dance of ethical deliberation and emotional fulfillment, where each step towards fairness is also a stride towards a more profound collective contentment.\n",
      "\n",
      "\n",
      "### Hypo Doc 5 ###\n",
      "It seems that the delicate balance between justice and happiness is a conundrum that has perplexed thinkers for generations. Those in favor of the utilitarian perspective argue that justice should serve the greatest happiness for the greatest number, linking the two concepts intrinsically. Happiness, they claim, is the end goal of justice, as a fair and equitable society is one in which the maximum number of people can achieve their version of happiness. On the opposing end, some assert that justice may at times demand sacrifice from individuals, which could impede immediate happiness for the sake of a higher moral order or future welfare. Should justice then serve present happiness or future prosperity? This division reiterates the age-old conflict between immediate gratification and the deferred promise of a balanced, just society. In light of these discussions, one could argue that the pursuit of justice, when tempered with compassion and foresight, paves the way for a sustainable collective happiness. Yet, navigating the intricate interplay between justice and happiness will forever require wisdom and a nuanced approach that takes into account the diverse needs and moral perspectives of a society.\n",
      "\n",
      "\n",
      "### Hypo Doc 6 ###\n",
      "To elucidate the confluence of justice and happiness is to embark on a philosophical quest that delves into the very fabric of moral theory. One may posit that at the nexus of justice and happiness lies the cultivation of a social environment where individuals can pursue their own conception of the good life without impinging upon the similar pursuits of others. Justice, in this context, establishes the framework within which happiness can burgeon, ensuring that the happiness of some does not become the epitome of injustice for others. Hence, justice provides the balancing scales on which the collective happiness of society can be weighed, highlighting that true happiness cannot thrive at the expense of fairness and equity. The utilitarian perspective that advocates for the 'greatest happiness for the greatest number' is therefore intricately interwoven with the notion of justice, as it strives for a harmonic balance where the happiness of the individual aligns with the overall well-being of society. Thus, in a just society, one's pursuit of happiness is harmonized with the universal aspirations of all its members, fostering an ethos where happiness and justice are not disparate voyages, but a conjoined odyssey towards a more enlightened moral landscape.\n",
      "\n",
      "\n",
      ">>> Generating embeddings for hypothetical documents...\n",
      "\n"
     ]
    },
    {
     "name": "stdout",
     "output_type": "stream",
     "text": [
      "\n",
      ">>> Combining embeddings for hypothetical documents...\n",
      "\n",
      "\n",
      ">>> Auto Hyde Embedding Complete!\n",
      "\n"
     ]
    }
   ],
   "source": [
    "query = 'what is the relationship between justice and happiness?'\n",
    "\n",
    "hyde_embedding = hyde_embedder.embed_query(text=query, db=db, hypo_params=hypo_params)"
   ]
  },
  {
   "cell_type": "code",
   "execution_count": 8,
   "id": "45218f27",
   "metadata": {
    "scrolled": false
   },
   "outputs": [
    {
     "data": {
      "text/plain": [
       "[0.015876703333653572,\n",
       " -0.013635452586265312,\n",
       " 0.021941788843565697,\n",
       " -0.02570370381768275,\n",
       " -0.015861831315729033,\n",
       " -0.0003427757204382006,\n",
       " 0.0027591148428962454,\n",
       " -0.00883308151544041,\n",
       " -0.014893267477206646,\n",
       " -0.020748802766928837]"
      ]
     },
     "execution_count": 8,
     "metadata": {},
     "output_type": "execute_result"
    }
   ],
   "source": [
    "hyde_embedding[:10]"
   ]
  }
 ],
 "metadata": {
  "kernelspec": {
   "display_name": "auto-hyde",
   "language": "python",
   "name": "auto-hyde"
  },
  "language_info": {
   "codemirror_mode": {
    "name": "ipython",
    "version": 3
   },
   "file_extension": ".py",
   "mimetype": "text/x-python",
   "name": "python",
   "nbconvert_exporter": "python",
   "pygments_lexer": "ipython3",
   "version": "3.11.6"
  }
 },
 "nbformat": 4,
 "nbformat_minor": 5
}
